{
 "cells": [
  {
   "cell_type": "code",
   "execution_count": 1,
   "metadata": {},
   "outputs": [],
   "source": [
    "# define constants\n",
    "input_dataset_parent_path = '/home/vamshikrishnadude/Downloads/Driving data prediction/input_dataset/'\n",
    "path_to_input_csv = input_dataset_parent_path+ 'volkswagen_e_golf.csv'"
   ]
  },
  {
   "cell_type": "code",
   "execution_count": 2,
   "metadata": {},
   "outputs": [],
   "source": [
    "# import libraries\n",
    "import pandas as pd\n",
    "import numpy as np\n",
    "\n",
    "import matplotlib.pyplot as plt\n",
    "import seaborn as sb\n",
    "\n",
    "import os\n",
    "from IPython.core.display import display"
   ]
  },
  {
   "cell_type": "code",
   "execution_count": 3,
   "metadata": {},
   "outputs": [],
   "source": [
    "# Global variables\n",
    "df = pd.DataFrame();"
   ]
  },
  {
   "cell_type": "code",
   "execution_count": 4,
   "metadata": {
    "scrolled": true
   },
   "outputs": [
    {
     "data": {
      "text/html": [
       "<div>\n",
       "<style scoped>\n",
       "    .dataframe tbody tr th:only-of-type {\n",
       "        vertical-align: middle;\n",
       "    }\n",
       "\n",
       "    .dataframe tbody tr th {\n",
       "        vertical-align: top;\n",
       "    }\n",
       "\n",
       "    .dataframe thead th {\n",
       "        text-align: right;\n",
       "    }\n",
       "</style>\n",
       "<table border=\"1\" class=\"dataframe\">\n",
       "  <thead>\n",
       "    <tr style=\"text-align: right;\">\n",
       "      <th></th>\n",
       "      <th>manufacturer</th>\n",
       "      <th>model</th>\n",
       "      <th>version</th>\n",
       "      <th>power(kW)</th>\n",
       "      <th>fuel_date</th>\n",
       "      <th>trip_distance(km)</th>\n",
       "      <th>quantity(kWh)</th>\n",
       "      <th>fuel_type</th>\n",
       "      <th>tire_type</th>\n",
       "      <th>city</th>\n",
       "      <th>motor_way</th>\n",
       "      <th>country_roads</th>\n",
       "      <th>driving_style</th>\n",
       "      <th>consumption(kWh/100km)</th>\n",
       "      <th>A/C</th>\n",
       "      <th>park_heating</th>\n",
       "      <th>avg_speed(km/h)</th>\n",
       "      <th>ecr_deviation</th>\n",
       "    </tr>\n",
       "  </thead>\n",
       "  <tbody>\n",
       "    <tr>\n",
       "      <th>0</th>\n",
       "      <td>Volkswagen</td>\n",
       "      <td>Golf</td>\n",
       "      <td>e-Golf</td>\n",
       "      <td>85</td>\n",
       "      <td>08.02.2019</td>\n",
       "      <td>80</td>\n",
       "      <td>NaN</td>\n",
       "      <td>Electricity</td>\n",
       "      <td>Winter tires</td>\n",
       "      <td>0</td>\n",
       "      <td>0</td>\n",
       "      <td>1</td>\n",
       "      <td>Normal</td>\n",
       "      <td>17.8</td>\n",
       "      <td>0</td>\n",
       "      <td>1</td>\n",
       "      <td>53.0</td>\n",
       "      <td>1.0</td>\n",
       "    </tr>\n",
       "    <tr>\n",
       "      <th>1</th>\n",
       "      <td>Volkswagen</td>\n",
       "      <td>Golf</td>\n",
       "      <td>e-Golf</td>\n",
       "      <td>85</td>\n",
       "      <td>06.02.2019</td>\n",
       "      <td>50</td>\n",
       "      <td>12.29</td>\n",
       "      <td>Electricity</td>\n",
       "      <td>Winter tires</td>\n",
       "      <td>0</td>\n",
       "      <td>0</td>\n",
       "      <td>1</td>\n",
       "      <td>Normal</td>\n",
       "      <td>15.5</td>\n",
       "      <td>0</td>\n",
       "      <td>1</td>\n",
       "      <td>47.0</td>\n",
       "      <td>-1.3</td>\n",
       "    </tr>\n",
       "    <tr>\n",
       "      <th>2</th>\n",
       "      <td>Volkswagen</td>\n",
       "      <td>Golf</td>\n",
       "      <td>e-Golf</td>\n",
       "      <td>85</td>\n",
       "      <td>05.02.2019</td>\n",
       "      <td>43</td>\n",
       "      <td>8.68</td>\n",
       "      <td>Electricity</td>\n",
       "      <td>Winter tires</td>\n",
       "      <td>0</td>\n",
       "      <td>1</td>\n",
       "      <td>1</td>\n",
       "      <td>Normal</td>\n",
       "      <td>18.0</td>\n",
       "      <td>0</td>\n",
       "      <td>1</td>\n",
       "      <td>58.0</td>\n",
       "      <td>1.2</td>\n",
       "    </tr>\n",
       "    <tr>\n",
       "      <th>3</th>\n",
       "      <td>Volkswagen</td>\n",
       "      <td>Golf</td>\n",
       "      <td>e-Golf</td>\n",
       "      <td>85</td>\n",
       "      <td>04.02.2019</td>\n",
       "      <td>44</td>\n",
       "      <td>1.50</td>\n",
       "      <td>Electricity</td>\n",
       "      <td>Winter tires</td>\n",
       "      <td>0</td>\n",
       "      <td>1</td>\n",
       "      <td>1</td>\n",
       "      <td>Normal</td>\n",
       "      <td>16.1</td>\n",
       "      <td>0</td>\n",
       "      <td>1</td>\n",
       "      <td>43.0</td>\n",
       "      <td>-0.7</td>\n",
       "    </tr>\n",
       "    <tr>\n",
       "      <th>4</th>\n",
       "      <td>Volkswagen</td>\n",
       "      <td>Golf</td>\n",
       "      <td>e-Golf</td>\n",
       "      <td>85</td>\n",
       "      <td>04.02.2019</td>\n",
       "      <td>76</td>\n",
       "      <td>14.44</td>\n",
       "      <td>Electricity</td>\n",
       "      <td>Winter tires</td>\n",
       "      <td>0</td>\n",
       "      <td>1</td>\n",
       "      <td>0</td>\n",
       "      <td>Normal</td>\n",
       "      <td>19.0</td>\n",
       "      <td>0</td>\n",
       "      <td>1</td>\n",
       "      <td>76.0</td>\n",
       "      <td>2.2</td>\n",
       "    </tr>\n",
       "  </tbody>\n",
       "</table>\n",
       "</div>"
      ],
      "text/plain": [
       "  manufacturer model version  power(kW)   fuel_date trip_distance(km)  \\\n",
       "0   Volkswagen  Golf  e-Golf         85  08.02.2019                80   \n",
       "1   Volkswagen  Golf  e-Golf         85  06.02.2019                50   \n",
       "2   Volkswagen  Golf  e-Golf         85  05.02.2019                43   \n",
       "3   Volkswagen  Golf  e-Golf         85  04.02.2019                44   \n",
       "4   Volkswagen  Golf  e-Golf         85  04.02.2019                76   \n",
       "\n",
       "   quantity(kWh)    fuel_type     tire_type  city  motor_way  country_roads  \\\n",
       "0            NaN  Electricity  Winter tires     0          0              1   \n",
       "1          12.29  Electricity  Winter tires     0          0              1   \n",
       "2           8.68  Electricity  Winter tires     0          1              1   \n",
       "3           1.50  Electricity  Winter tires     0          1              1   \n",
       "4          14.44  Electricity  Winter tires     0          1              0   \n",
       "\n",
       "  driving_style  consumption(kWh/100km)  A/C  park_heating  avg_speed(km/h)  \\\n",
       "0        Normal                    17.8    0             1             53.0   \n",
       "1        Normal                    15.5    0             1             47.0   \n",
       "2        Normal                    18.0    0             1             58.0   \n",
       "3        Normal                    16.1    0             1             43.0   \n",
       "4        Normal                    19.0    0             1             76.0   \n",
       "\n",
       "   ecr_deviation  \n",
       "0            1.0  \n",
       "1           -1.3  \n",
       "2            1.2  \n",
       "3           -0.7  \n",
       "4            2.2  "
      ]
     },
     "metadata": {},
     "output_type": "display_data"
    }
   ],
   "source": [
    "# Load Dataset\n",
    "if os.path.exists(path_to_input_csv) :\n",
    "    df = pd.read_csv(path_to_input_csv);\n",
    "    display(df.head(5))"
   ]
  },
  {
   "cell_type": "code",
   "execution_count": 5,
   "metadata": {},
   "outputs": [
    {
     "data": {
      "text/plain": [
       "trip_distance(km)     1\n",
       "quantity(kWh)         1\n",
       "avg_speed(km/h)      13\n",
       "dtype: int64"
      ]
     },
     "execution_count": 5,
     "metadata": {},
     "output_type": "execute_result"
    }
   ],
   "source": [
    "df.isnull().sum()[df.isnull().sum() > 0]"
   ]
  },
  {
   "cell_type": "markdown",
   "metadata": {},
   "source": [
    "### Data Overview"
   ]
  },
  {
   "cell_type": "markdown",
   "metadata": {},
   "source": [
    "* “ecr_deviation,” : difference between the energy consumption rate recorded at each trip and the value announced by the manufacturer, which is stated as 16.8 kilowatts per hundred kilometers.\n",
    "\n",
    "\n",
    "* “a/c” : inside vehicle air-conditioning \n",
    "\n",
    "\n",
    "* “park_heating” is the car’s heating system\n",
    "\n",
    "\n",
    "\n",
    "> the useless columns, such as model and theversion of the vehicle, are eliminated and the “distance (km)” column is labeled as the target."
   ]
  },
  {
   "cell_type": "code",
   "execution_count": 6,
   "metadata": {},
   "outputs": [
    {
     "name": "stdout",
     "output_type": "stream",
     "text": [
      "Number of variables :  18\n"
     ]
    }
   ],
   "source": [
    "# Variable count\n",
    "print(\"Number of variables : \", len(df.columns))"
   ]
  },
  {
   "cell_type": "code",
   "execution_count": 7,
   "metadata": {},
   "outputs": [
    {
     "data": {
      "text/plain": [
       "manufacturer               object\n",
       "model                      object\n",
       "version                    object\n",
       "power(kW)                   int64\n",
       "fuel_date                  object\n",
       "trip_distance(km)          object\n",
       "quantity(kWh)             float64\n",
       "fuel_type                  object\n",
       "tire_type                  object\n",
       "city                        int64\n",
       "motor_way                   int64\n",
       "country_roads               int64\n",
       "driving_style              object\n",
       "consumption(kWh/100km)    float64\n",
       "A/C                         int64\n",
       "park_heating                int64\n",
       "avg_speed(km/h)           float64\n",
       "ecr_deviation             float64\n",
       "dtype: object"
      ]
     },
     "execution_count": 7,
     "metadata": {},
     "output_type": "execute_result"
    }
   ],
   "source": [
    "# Data types \n",
    "df.dtypes"
   ]
  },
  {
   "cell_type": "code",
   "execution_count": 8,
   "metadata": {},
   "outputs": [
    {
     "data": {
      "text/plain": [
       "1    2323\n",
       "0    1022\n",
       "Name: city, dtype: int64"
      ]
     },
     "execution_count": 8,
     "metadata": {},
     "output_type": "execute_result"
    }
   ],
   "source": [
    "df['city'].value_counts()"
   ]
  },
  {
   "cell_type": "code",
   "execution_count": 9,
   "metadata": {},
   "outputs": [
    {
     "data": {
      "text/plain": [
       "1    2225\n",
       "0    1120\n",
       "Name: motor_way, dtype: int64"
      ]
     },
     "execution_count": 9,
     "metadata": {},
     "output_type": "execute_result"
    }
   ],
   "source": [
    "df['motor_way'].value_counts()"
   ]
  },
  {
   "cell_type": "code",
   "execution_count": 10,
   "metadata": {},
   "outputs": [
    {
     "data": {
      "text/plain": [
       "1    1963\n",
       "0    1382\n",
       "Name: country_roads, dtype: int64"
      ]
     },
     "execution_count": 10,
     "metadata": {},
     "output_type": "execute_result"
    }
   ],
   "source": [
    "df['country_roads'].value_counts()"
   ]
  },
  {
   "cell_type": "code",
   "execution_count": 11,
   "metadata": {},
   "outputs": [
    {
     "data": {
      "text/plain": [
       "0    3195\n",
       "1     150\n",
       "Name: A/C, dtype: int64"
      ]
     },
     "execution_count": 11,
     "metadata": {},
     "output_type": "execute_result"
    }
   ],
   "source": [
    "df['A/C'].value_counts()"
   ]
  },
  {
   "cell_type": "code",
   "execution_count": 12,
   "metadata": {},
   "outputs": [
    {
     "data": {
      "text/plain": [
       "0    2714\n",
       "1     631\n",
       "Name: park_heating, dtype: int64"
      ]
     },
     "execution_count": 12,
     "metadata": {},
     "output_type": "execute_result"
    }
   ],
   "source": [
    "df['park_heating'].value_counts()"
   ]
  },
  {
   "cell_type": "markdown",
   "metadata": {},
   "source": [
    "* **trip_distance(km), city, motor_way, country_roads, A/C, park_heating** have incorrect data types.\n",
    "* **trip_distance(km)** is a numeric data type\n",
    "* **city, motor_way, country_roads, A/C, park_heating** are binomial data types can be converted to string types or can be remained as_it_is."
   ]
  },
  {
   "cell_type": "markdown",
   "metadata": {},
   "source": [
    "### Type Conversion"
   ]
  },
  {
   "cell_type": "code",
   "execution_count": 13,
   "metadata": {},
   "outputs": [],
   "source": [
    "def tryconvert(value, default, t):\n",
    "    if t == 'numeric':\n",
    "        try:\n",
    "            return float(value)\n",
    "        except (ValueError, TypeError):\n",
    "            return default\n",
    "    if t == 'str':\n",
    "        try:\n",
    "            return str(value)\n",
    "        except (ValueError, TypeError):\n",
    "            return default"
   ]
  },
  {
   "cell_type": "code",
   "execution_count": 14,
   "metadata": {},
   "outputs": [],
   "source": [
    "df['trip_distance(km)'] = df['trip_distance(km)'].map(lambda x : tryconvert(x, np.nan, 'numeric') )"
   ]
  },
  {
   "cell_type": "code",
   "execution_count": 15,
   "metadata": {},
   "outputs": [],
   "source": [
    "#df[['city', 'motor_way', 'country_roads', 'A/C', 'park_heating']] = df[['city', 'motor_way', 'country_roads', 'A/C', 'park_heating']].astype('str')"
   ]
  },
  {
   "cell_type": "code",
   "execution_count": 16,
   "metadata": {},
   "outputs": [
    {
     "data": {
      "text/plain": [
       "manufacturer               object\n",
       "model                      object\n",
       "version                    object\n",
       "power(kW)                   int64\n",
       "fuel_date                  object\n",
       "trip_distance(km)         float64\n",
       "quantity(kWh)             float64\n",
       "fuel_type                  object\n",
       "tire_type                  object\n",
       "city                        int64\n",
       "motor_way                   int64\n",
       "country_roads               int64\n",
       "driving_style              object\n",
       "consumption(kWh/100km)    float64\n",
       "A/C                         int64\n",
       "park_heating                int64\n",
       "avg_speed(km/h)           float64\n",
       "ecr_deviation             float64\n",
       "dtype: object"
      ]
     },
     "execution_count": 16,
     "metadata": {},
     "output_type": "execute_result"
    }
   ],
   "source": [
    "# cross check the data types\n",
    "df.dtypes"
   ]
  },
  {
   "cell_type": "code",
   "execution_count": 17,
   "metadata": {},
   "outputs": [
    {
     "data": {
      "text/html": [
       "<div>\n",
       "<style scoped>\n",
       "    .dataframe tbody tr th:only-of-type {\n",
       "        vertical-align: middle;\n",
       "    }\n",
       "\n",
       "    .dataframe tbody tr th {\n",
       "        vertical-align: top;\n",
       "    }\n",
       "\n",
       "    .dataframe thead th {\n",
       "        text-align: right;\n",
       "    }\n",
       "</style>\n",
       "<table border=\"1\" class=\"dataframe\">\n",
       "  <thead>\n",
       "    <tr style=\"text-align: right;\">\n",
       "      <th></th>\n",
       "      <th>manufacturer</th>\n",
       "      <th>model</th>\n",
       "      <th>version</th>\n",
       "      <th>power(kW)</th>\n",
       "      <th>fuel_date</th>\n",
       "      <th>trip_distance(km)</th>\n",
       "      <th>quantity(kWh)</th>\n",
       "      <th>fuel_type</th>\n",
       "      <th>tire_type</th>\n",
       "      <th>city</th>\n",
       "      <th>motor_way</th>\n",
       "      <th>country_roads</th>\n",
       "      <th>driving_style</th>\n",
       "      <th>consumption(kWh/100km)</th>\n",
       "      <th>A/C</th>\n",
       "      <th>park_heating</th>\n",
       "      <th>avg_speed(km/h)</th>\n",
       "      <th>ecr_deviation</th>\n",
       "    </tr>\n",
       "  </thead>\n",
       "  <tbody>\n",
       "    <tr>\n",
       "      <th>0</th>\n",
       "      <td>Volkswagen</td>\n",
       "      <td>Golf</td>\n",
       "      <td>e-Golf</td>\n",
       "      <td>85</td>\n",
       "      <td>08.02.2019</td>\n",
       "      <td>80.0</td>\n",
       "      <td>NaN</td>\n",
       "      <td>Electricity</td>\n",
       "      <td>Winter tires</td>\n",
       "      <td>0</td>\n",
       "      <td>0</td>\n",
       "      <td>1</td>\n",
       "      <td>Normal</td>\n",
       "      <td>17.8</td>\n",
       "      <td>0</td>\n",
       "      <td>1</td>\n",
       "      <td>53.0</td>\n",
       "      <td>1.0</td>\n",
       "    </tr>\n",
       "    <tr>\n",
       "      <th>1</th>\n",
       "      <td>Volkswagen</td>\n",
       "      <td>Golf</td>\n",
       "      <td>e-Golf</td>\n",
       "      <td>85</td>\n",
       "      <td>06.02.2019</td>\n",
       "      <td>50.0</td>\n",
       "      <td>12.29</td>\n",
       "      <td>Electricity</td>\n",
       "      <td>Winter tires</td>\n",
       "      <td>0</td>\n",
       "      <td>0</td>\n",
       "      <td>1</td>\n",
       "      <td>Normal</td>\n",
       "      <td>15.5</td>\n",
       "      <td>0</td>\n",
       "      <td>1</td>\n",
       "      <td>47.0</td>\n",
       "      <td>-1.3</td>\n",
       "    </tr>\n",
       "    <tr>\n",
       "      <th>2</th>\n",
       "      <td>Volkswagen</td>\n",
       "      <td>Golf</td>\n",
       "      <td>e-Golf</td>\n",
       "      <td>85</td>\n",
       "      <td>05.02.2019</td>\n",
       "      <td>43.0</td>\n",
       "      <td>8.68</td>\n",
       "      <td>Electricity</td>\n",
       "      <td>Winter tires</td>\n",
       "      <td>0</td>\n",
       "      <td>1</td>\n",
       "      <td>1</td>\n",
       "      <td>Normal</td>\n",
       "      <td>18.0</td>\n",
       "      <td>0</td>\n",
       "      <td>1</td>\n",
       "      <td>58.0</td>\n",
       "      <td>1.2</td>\n",
       "    </tr>\n",
       "    <tr>\n",
       "      <th>3</th>\n",
       "      <td>Volkswagen</td>\n",
       "      <td>Golf</td>\n",
       "      <td>e-Golf</td>\n",
       "      <td>85</td>\n",
       "      <td>04.02.2019</td>\n",
       "      <td>44.0</td>\n",
       "      <td>1.50</td>\n",
       "      <td>Electricity</td>\n",
       "      <td>Winter tires</td>\n",
       "      <td>0</td>\n",
       "      <td>1</td>\n",
       "      <td>1</td>\n",
       "      <td>Normal</td>\n",
       "      <td>16.1</td>\n",
       "      <td>0</td>\n",
       "      <td>1</td>\n",
       "      <td>43.0</td>\n",
       "      <td>-0.7</td>\n",
       "    </tr>\n",
       "    <tr>\n",
       "      <th>4</th>\n",
       "      <td>Volkswagen</td>\n",
       "      <td>Golf</td>\n",
       "      <td>e-Golf</td>\n",
       "      <td>85</td>\n",
       "      <td>04.02.2019</td>\n",
       "      <td>76.0</td>\n",
       "      <td>14.44</td>\n",
       "      <td>Electricity</td>\n",
       "      <td>Winter tires</td>\n",
       "      <td>0</td>\n",
       "      <td>1</td>\n",
       "      <td>0</td>\n",
       "      <td>Normal</td>\n",
       "      <td>19.0</td>\n",
       "      <td>0</td>\n",
       "      <td>1</td>\n",
       "      <td>76.0</td>\n",
       "      <td>2.2</td>\n",
       "    </tr>\n",
       "  </tbody>\n",
       "</table>\n",
       "</div>"
      ],
      "text/plain": [
       "  manufacturer model version  power(kW)   fuel_date  trip_distance(km)  \\\n",
       "0   Volkswagen  Golf  e-Golf         85  08.02.2019               80.0   \n",
       "1   Volkswagen  Golf  e-Golf         85  06.02.2019               50.0   \n",
       "2   Volkswagen  Golf  e-Golf         85  05.02.2019               43.0   \n",
       "3   Volkswagen  Golf  e-Golf         85  04.02.2019               44.0   \n",
       "4   Volkswagen  Golf  e-Golf         85  04.02.2019               76.0   \n",
       "\n",
       "   quantity(kWh)    fuel_type     tire_type  city  motor_way  country_roads  \\\n",
       "0            NaN  Electricity  Winter tires     0          0              1   \n",
       "1          12.29  Electricity  Winter tires     0          0              1   \n",
       "2           8.68  Electricity  Winter tires     0          1              1   \n",
       "3           1.50  Electricity  Winter tires     0          1              1   \n",
       "4          14.44  Electricity  Winter tires     0          1              0   \n",
       "\n",
       "  driving_style  consumption(kWh/100km)  A/C  park_heating  avg_speed(km/h)  \\\n",
       "0        Normal                    17.8    0             1             53.0   \n",
       "1        Normal                    15.5    0             1             47.0   \n",
       "2        Normal                    18.0    0             1             58.0   \n",
       "3        Normal                    16.1    0             1             43.0   \n",
       "4        Normal                    19.0    0             1             76.0   \n",
       "\n",
       "   ecr_deviation  \n",
       "0            1.0  \n",
       "1           -1.3  \n",
       "2            1.2  \n",
       "3           -0.7  \n",
       "4            2.2  "
      ]
     },
     "metadata": {},
     "output_type": "display_data"
    }
   ],
   "source": [
    "display(df.head(5))"
   ]
  },
  {
   "cell_type": "markdown",
   "metadata": {},
   "source": [
    "### Missing Values Analysis"
   ]
  },
  {
   "cell_type": "code",
   "execution_count": 18,
   "metadata": {},
   "outputs": [
    {
     "name": "stdout",
     "output_type": "stream",
     "text": [
      "Manufacturers\n"
     ]
    },
    {
     "data": {
      "text/plain": [
       "Volkswagen    3345\n",
       "Name: manufacturer, dtype: int64"
      ]
     },
     "metadata": {},
     "output_type": "display_data"
    },
    {
     "name": "stdout",
     "output_type": "stream",
     "text": [
      "Models\n"
     ]
    },
    {
     "data": {
      "text/plain": [
       "Golf    3345\n",
       "Name: model, dtype: int64"
      ]
     },
     "metadata": {},
     "output_type": "display_data"
    },
    {
     "name": "stdout",
     "output_type": "stream",
     "text": [
      "Versions\n"
     ]
    },
    {
     "data": {
      "text/plain": [
       "e-Golf    3345\n",
       "Name: version, dtype: int64"
      ]
     },
     "metadata": {},
     "output_type": "display_data"
    },
    {
     "name": "stdout",
     "output_type": "stream",
     "text": [
      "Fuel type\n"
     ]
    },
    {
     "data": {
      "text/plain": [
       "Electricity    3345\n",
       "Name: fuel_type, dtype: int64"
      ]
     },
     "metadata": {},
     "output_type": "display_data"
    },
    {
     "name": "stdout",
     "output_type": "stream",
     "text": [
      "tire type\n"
     ]
    },
    {
     "data": {
      "text/plain": [
       "Summer tires    1826\n",
       "Winter tires    1519\n",
       "Name: tire_type, dtype: int64"
      ]
     },
     "metadata": {},
     "output_type": "display_data"
    },
    {
     "name": "stdout",
     "output_type": "stream",
     "text": [
      "driving_style\n"
     ]
    },
    {
     "data": {
      "text/plain": [
       "Moderate    2334\n",
       "Normal       912\n",
       "Fast          99\n",
       "Name: driving_style, dtype: int64"
      ]
     },
     "metadata": {},
     "output_type": "display_data"
    }
   ],
   "source": [
    "# Observing nonstandard data in Object variables\n",
    "\n",
    "# manufacturer\n",
    "print(\"Manufacturers\")\n",
    "display(df['manufacturer'].value_counts())\n",
    "\n",
    "# models\n",
    "print(\"Models\")\n",
    "display(df['model'].value_counts())\n",
    "\n",
    "# versions\n",
    "print(\"Versions\")\n",
    "display(df['version'].value_counts())\n",
    "\n",
    "# fuel type\n",
    "print(\"Fuel type\")\n",
    "display(df['fuel_type'].value_counts())\n",
    "\n",
    "# type type\n",
    "print(\"tire type\")\n",
    "display(df['tire_type'].value_counts())\n",
    "\n",
    "# driving_style\n",
    "print(\"driving_style\")\n",
    "display(df['driving_style'].value_counts())"
   ]
  },
  {
   "cell_type": "markdown",
   "metadata": {},
   "source": [
    "* **No Non-standard missing values found in object datatypes**"
   ]
  },
  {
   "cell_type": "code",
   "execution_count": 19,
   "metadata": {},
   "outputs": [
    {
     "data": {
      "text/plain": [
       "trip_distance(km)     4\n",
       "quantity(kWh)         1\n",
       "avg_speed(km/h)      13\n",
       "dtype: int64"
      ]
     },
     "execution_count": 19,
     "metadata": {},
     "output_type": "execute_result"
    }
   ],
   "source": [
    "# standard missing values\n",
    "df.isnull().sum()[df.isnull().sum() > 0]"
   ]
  },
  {
   "cell_type": "code",
   "execution_count": null,
   "metadata": {},
   "outputs": [],
   "source": [
    "# Imputation\n",
    "\n"
   ]
  }
 ],
 "metadata": {
  "kernelspec": {
   "display_name": "Python 3",
   "language": "python",
   "name": "python3"
  },
  "language_info": {
   "codemirror_mode": {
    "name": "ipython",
    "version": 3
   },
   "file_extension": ".py",
   "mimetype": "text/x-python",
   "name": "python",
   "nbconvert_exporter": "python",
   "pygments_lexer": "ipython3",
   "version": "3.8.5"
  }
 },
 "nbformat": 4,
 "nbformat_minor": 4
}
