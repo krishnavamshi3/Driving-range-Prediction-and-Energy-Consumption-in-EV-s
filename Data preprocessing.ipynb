{
 "cells": [
  {
   "cell_type": "code",
   "execution_count": 1,
   "metadata": {},
   "outputs": [],
   "source": [
    "# define constants\n",
    "input_dataset_parent_path = '/home/vamshikrishnadude/Downloads/Driving data prediction/input_dataset/'\n",
    "path_to_merged_csv = input_dataset_parent_path+ 'data.csv'"
   ]
  },
  {
   "cell_type": "code",
   "execution_count": 2,
   "metadata": {},
   "outputs": [],
   "source": [
    "# import libraries\n",
    "import pandas as pd\n",
    "import numpy as np\n",
    "\n",
    "import matplotlib.pyplot as plt\n",
    "import seaborn as sb\n",
    "\n",
    "import os\n",
    "from IPython.core.display import display"
   ]
  },
  {
   "cell_type": "code",
   "execution_count": 3,
   "metadata": {},
   "outputs": [],
   "source": [
    "# Global variables\n",
    "df = pd.DataFrame();"
   ]
  },
  {
   "cell_type": "code",
   "execution_count": 4,
   "metadata": {
    "scrolled": true
   },
   "outputs": [
    {
     "data": {
      "text/html": [
       "<div>\n",
       "<style scoped>\n",
       "    .dataframe tbody tr th:only-of-type {\n",
       "        vertical-align: middle;\n",
       "    }\n",
       "\n",
       "    .dataframe tbody tr th {\n",
       "        vertical-align: top;\n",
       "    }\n",
       "\n",
       "    .dataframe thead th {\n",
       "        text-align: right;\n",
       "    }\n",
       "</style>\n",
       "<table border=\"1\" class=\"dataframe\">\n",
       "  <thead>\n",
       "    <tr style=\"text-align: right;\">\n",
       "      <th></th>\n",
       "      <th>Unnamed: 0</th>\n",
       "      <th>manufacturer</th>\n",
       "      <th>model</th>\n",
       "      <th>version</th>\n",
       "      <th>power(kW)</th>\n",
       "      <th>fuel_date</th>\n",
       "      <th>trip_distance(km)</th>\n",
       "      <th>quantity(kWh)</th>\n",
       "      <th>fuel_type</th>\n",
       "      <th>tire_type</th>\n",
       "      <th>...</th>\n",
       "      <th>motor_way</th>\n",
       "      <th>country_roads</th>\n",
       "      <th>driving_style</th>\n",
       "      <th>consumption(kWh/100km)</th>\n",
       "      <th>A/C</th>\n",
       "      <th>park_heating</th>\n",
       "      <th>avg_speed(km/h)</th>\n",
       "      <th>ecr_deviation</th>\n",
       "      <th>odometer</th>\n",
       "      <th>fuel_note</th>\n",
       "    </tr>\n",
       "  </thead>\n",
       "  <tbody>\n",
       "    <tr>\n",
       "      <th>0</th>\n",
       "      <td>0</td>\n",
       "      <td>Volkswagen</td>\n",
       "      <td>Golf</td>\n",
       "      <td>e-Golf</td>\n",
       "      <td>85</td>\n",
       "      <td>08.02.2019</td>\n",
       "      <td>80</td>\n",
       "      <td>NaN</td>\n",
       "      <td>Electricity</td>\n",
       "      <td>Winter tires</td>\n",
       "      <td>...</td>\n",
       "      <td>0</td>\n",
       "      <td>1</td>\n",
       "      <td>Normal</td>\n",
       "      <td>17.8</td>\n",
       "      <td>0</td>\n",
       "      <td>1</td>\n",
       "      <td>53.0</td>\n",
       "      <td>1.0</td>\n",
       "      <td>NaN</td>\n",
       "      <td>NaN</td>\n",
       "    </tr>\n",
       "    <tr>\n",
       "      <th>1</th>\n",
       "      <td>1</td>\n",
       "      <td>Volkswagen</td>\n",
       "      <td>Golf</td>\n",
       "      <td>e-Golf</td>\n",
       "      <td>85</td>\n",
       "      <td>06.02.2019</td>\n",
       "      <td>50</td>\n",
       "      <td>12.29</td>\n",
       "      <td>Electricity</td>\n",
       "      <td>Winter tires</td>\n",
       "      <td>...</td>\n",
       "      <td>0</td>\n",
       "      <td>1</td>\n",
       "      <td>Normal</td>\n",
       "      <td>15.5</td>\n",
       "      <td>0</td>\n",
       "      <td>1</td>\n",
       "      <td>47.0</td>\n",
       "      <td>-1.3</td>\n",
       "      <td>NaN</td>\n",
       "      <td>NaN</td>\n",
       "    </tr>\n",
       "    <tr>\n",
       "      <th>2</th>\n",
       "      <td>2</td>\n",
       "      <td>Volkswagen</td>\n",
       "      <td>Golf</td>\n",
       "      <td>e-Golf</td>\n",
       "      <td>85</td>\n",
       "      <td>05.02.2019</td>\n",
       "      <td>43</td>\n",
       "      <td>8.68</td>\n",
       "      <td>Electricity</td>\n",
       "      <td>Winter tires</td>\n",
       "      <td>...</td>\n",
       "      <td>1</td>\n",
       "      <td>1</td>\n",
       "      <td>Normal</td>\n",
       "      <td>18.0</td>\n",
       "      <td>0</td>\n",
       "      <td>1</td>\n",
       "      <td>58.0</td>\n",
       "      <td>1.2</td>\n",
       "      <td>NaN</td>\n",
       "      <td>NaN</td>\n",
       "    </tr>\n",
       "    <tr>\n",
       "      <th>3</th>\n",
       "      <td>3</td>\n",
       "      <td>Volkswagen</td>\n",
       "      <td>Golf</td>\n",
       "      <td>e-Golf</td>\n",
       "      <td>85</td>\n",
       "      <td>04.02.2019</td>\n",
       "      <td>44</td>\n",
       "      <td>1.50</td>\n",
       "      <td>Electricity</td>\n",
       "      <td>Winter tires</td>\n",
       "      <td>...</td>\n",
       "      <td>1</td>\n",
       "      <td>1</td>\n",
       "      <td>Normal</td>\n",
       "      <td>16.1</td>\n",
       "      <td>0</td>\n",
       "      <td>1</td>\n",
       "      <td>43.0</td>\n",
       "      <td>-0.7</td>\n",
       "      <td>NaN</td>\n",
       "      <td>NaN</td>\n",
       "    </tr>\n",
       "    <tr>\n",
       "      <th>4</th>\n",
       "      <td>4</td>\n",
       "      <td>Volkswagen</td>\n",
       "      <td>Golf</td>\n",
       "      <td>e-Golf</td>\n",
       "      <td>85</td>\n",
       "      <td>04.02.2019</td>\n",
       "      <td>76</td>\n",
       "      <td>14.44</td>\n",
       "      <td>Electricity</td>\n",
       "      <td>Winter tires</td>\n",
       "      <td>...</td>\n",
       "      <td>1</td>\n",
       "      <td>0</td>\n",
       "      <td>Normal</td>\n",
       "      <td>19.0</td>\n",
       "      <td>0</td>\n",
       "      <td>1</td>\n",
       "      <td>76.0</td>\n",
       "      <td>2.2</td>\n",
       "      <td>NaN</td>\n",
       "      <td>NaN</td>\n",
       "    </tr>\n",
       "  </tbody>\n",
       "</table>\n",
       "<p>5 rows × 21 columns</p>\n",
       "</div>"
      ],
      "text/plain": [
       "   Unnamed: 0 manufacturer model version  power(kW)   fuel_date  \\\n",
       "0           0   Volkswagen  Golf  e-Golf         85  08.02.2019   \n",
       "1           1   Volkswagen  Golf  e-Golf         85  06.02.2019   \n",
       "2           2   Volkswagen  Golf  e-Golf         85  05.02.2019   \n",
       "3           3   Volkswagen  Golf  e-Golf         85  04.02.2019   \n",
       "4           4   Volkswagen  Golf  e-Golf         85  04.02.2019   \n",
       "\n",
       "  trip_distance(km)  quantity(kWh)    fuel_type     tire_type  ...  motor_way  \\\n",
       "0                80            NaN  Electricity  Winter tires  ...          0   \n",
       "1                50          12.29  Electricity  Winter tires  ...          0   \n",
       "2                43           8.68  Electricity  Winter tires  ...          1   \n",
       "3                44           1.50  Electricity  Winter tires  ...          1   \n",
       "4                76          14.44  Electricity  Winter tires  ...          1   \n",
       "\n",
       "   country_roads  driving_style consumption(kWh/100km)  A/C  park_heating  \\\n",
       "0              1         Normal                   17.8    0             1   \n",
       "1              1         Normal                   15.5    0             1   \n",
       "2              1         Normal                   18.0    0             1   \n",
       "3              1         Normal                   16.1    0             1   \n",
       "4              0         Normal                   19.0    0             1   \n",
       "\n",
       "   avg_speed(km/h)  ecr_deviation  odometer  fuel_note  \n",
       "0             53.0            1.0       NaN        NaN  \n",
       "1             47.0           -1.3       NaN        NaN  \n",
       "2             58.0            1.2       NaN        NaN  \n",
       "3             43.0           -0.7       NaN        NaN  \n",
       "4             76.0            2.2       NaN        NaN  \n",
       "\n",
       "[5 rows x 21 columns]"
      ]
     },
     "metadata": {},
     "output_type": "display_data"
    }
   ],
   "source": [
    "# Load Dataset\n",
    "if os.path.exists(path_to_merged_csv) :\n",
    "    df = pd.read_csv(path_to_merged_csv);\n",
    "    display(df.head(5))"
   ]
  },
  {
   "cell_type": "code",
   "execution_count": 5,
   "metadata": {},
   "outputs": [
    {
     "data": {
      "text/plain": [
       "trip_distance(km)            1\n",
       "quantity(kWh)               40\n",
       "consumption(kWh/100km)      51\n",
       "avg_speed(km/h)           1298\n",
       "ecr_deviation               51\n",
       "odometer                  3345\n",
       "fuel_note                 3346\n",
       "dtype: int64"
      ]
     },
     "execution_count": 5,
     "metadata": {},
     "output_type": "execute_result"
    }
   ],
   "source": [
    "df.isnull().sum()[df.isnull().sum() > 0]"
   ]
  },
  {
   "cell_type": "markdown",
   "metadata": {},
   "source": [
    "### Data Overview"
   ]
  },
  {
   "cell_type": "code",
   "execution_count": 6,
   "metadata": {},
   "outputs": [
    {
     "name": "stdout",
     "output_type": "stream",
     "text": [
      "Number of variables :  21\n"
     ]
    }
   ],
   "source": [
    "# Variable count\n",
    "print(\"Number of variables : \", len(df.columns))"
   ]
  },
  {
   "cell_type": "code",
   "execution_count": 7,
   "metadata": {},
   "outputs": [
    {
     "data": {
      "text/plain": [
       "Unnamed: 0                  int64\n",
       "manufacturer               object\n",
       "model                      object\n",
       "version                    object\n",
       "power(kW)                   int64\n",
       "fuel_date                  object\n",
       "trip_distance(km)          object\n",
       "quantity(kWh)             float64\n",
       "fuel_type                  object\n",
       "tire_type                  object\n",
       "city                        int64\n",
       "motor_way                   int64\n",
       "country_roads               int64\n",
       "driving_style              object\n",
       "consumption(kWh/100km)    float64\n",
       "A/C                         int64\n",
       "park_heating                int64\n",
       "avg_speed(km/h)           float64\n",
       "ecr_deviation             float64\n",
       "odometer                  float64\n",
       "fuel_note                  object\n",
       "dtype: object"
      ]
     },
     "execution_count": 7,
     "metadata": {},
     "output_type": "execute_result"
    }
   ],
   "source": [
    "# Data types \n",
    "df.dtypes"
   ]
  },
  {
   "cell_type": "code",
   "execution_count": 8,
   "metadata": {},
   "outputs": [
    {
     "data": {
      "text/plain": [
       "1    3313\n",
       "0    1317\n",
       "Name: city, dtype: int64"
      ]
     },
     "execution_count": 8,
     "metadata": {},
     "output_type": "execute_result"
    }
   ],
   "source": [
    "df['city'].value_counts()"
   ]
  },
  {
   "cell_type": "code",
   "execution_count": 9,
   "metadata": {},
   "outputs": [
    {
     "data": {
      "text/plain": [
       "1    2781\n",
       "0    1849\n",
       "Name: motor_way, dtype: int64"
      ]
     },
     "execution_count": 9,
     "metadata": {},
     "output_type": "execute_result"
    }
   ],
   "source": [
    "df['motor_way'].value_counts()"
   ]
  },
  {
   "cell_type": "code",
   "execution_count": 10,
   "metadata": {},
   "outputs": [
    {
     "data": {
      "text/plain": [
       "1    3079\n",
       "0    1551\n",
       "Name: country_roads, dtype: int64"
      ]
     },
     "execution_count": 10,
     "metadata": {},
     "output_type": "execute_result"
    }
   ],
   "source": [
    "df['country_roads'].value_counts()"
   ]
  },
  {
   "cell_type": "code",
   "execution_count": 11,
   "metadata": {},
   "outputs": [
    {
     "data": {
      "text/plain": [
       "0    4404\n",
       "1     226\n",
       "Name: A/C, dtype: int64"
      ]
     },
     "execution_count": 11,
     "metadata": {},
     "output_type": "execute_result"
    }
   ],
   "source": [
    "df['A/C'].value_counts()"
   ]
  },
  {
   "cell_type": "code",
   "execution_count": 12,
   "metadata": {},
   "outputs": [
    {
     "data": {
      "text/plain": [
       "0    3958\n",
       "1     672\n",
       "Name: park_heating, dtype: int64"
      ]
     },
     "execution_count": 12,
     "metadata": {},
     "output_type": "execute_result"
    }
   ],
   "source": [
    "df['park_heating'].value_counts()"
   ]
  },
  {
   "cell_type": "markdown",
   "metadata": {},
   "source": [
    "* **trip_distance(km), city, motor_way, country_roads, A/C, park_heating** have incorrect data types.\n",
    "* **trip_distance(km)** is a numeric data type\n",
    "* **city, motor_way, country_roads, A/C, park_heating** are binomial data types can be converted to string types or can be remained as_it_is."
   ]
  },
  {
   "cell_type": "markdown",
   "metadata": {},
   "source": [
    "### Type Conversion"
   ]
  },
  {
   "cell_type": "code",
   "execution_count": 13,
   "metadata": {},
   "outputs": [],
   "source": [
    "def tryconvert(value, default, t):\n",
    "    if t == 'numeric':\n",
    "        try:\n",
    "            return float(value)\n",
    "        except (ValueError, TypeError):\n",
    "            return default\n",
    "    if t == 'str':\n",
    "        try:\n",
    "            return str(value)\n",
    "        except (ValueError, TypeError):\n",
    "            return default"
   ]
  },
  {
   "cell_type": "code",
   "execution_count": 14,
   "metadata": {},
   "outputs": [],
   "source": [
    "df['trip_distance(km)'] = df['trip_distance(km)'].map(lambda x : tryconvert(x, np.nan, 'numeric') )"
   ]
  },
  {
   "cell_type": "code",
   "execution_count": 15,
   "metadata": {},
   "outputs": [],
   "source": [
    "#df[['city', 'motor_way', 'country_roads', 'A/C', 'park_heating']] = df[['city', 'motor_way', 'country_roads', 'A/C', 'park_heating']].astype('str')"
   ]
  },
  {
   "cell_type": "code",
   "execution_count": 16,
   "metadata": {},
   "outputs": [
    {
     "data": {
      "text/plain": [
       "Unnamed: 0                  int64\n",
       "manufacturer               object\n",
       "model                      object\n",
       "version                    object\n",
       "power(kW)                   int64\n",
       "fuel_date                  object\n",
       "trip_distance(km)         float64\n",
       "quantity(kWh)             float64\n",
       "fuel_type                  object\n",
       "tire_type                  object\n",
       "city                        int64\n",
       "motor_way                   int64\n",
       "country_roads               int64\n",
       "driving_style              object\n",
       "consumption(kWh/100km)    float64\n",
       "A/C                         int64\n",
       "park_heating                int64\n",
       "avg_speed(km/h)           float64\n",
       "ecr_deviation             float64\n",
       "odometer                  float64\n",
       "fuel_note                  object\n",
       "dtype: object"
      ]
     },
     "execution_count": 16,
     "metadata": {},
     "output_type": "execute_result"
    }
   ],
   "source": [
    "# cross check the data types\n",
    "df.dtypes"
   ]
  },
  {
   "cell_type": "code",
   "execution_count": 17,
   "metadata": {},
   "outputs": [
    {
     "data": {
      "text/html": [
       "<div>\n",
       "<style scoped>\n",
       "    .dataframe tbody tr th:only-of-type {\n",
       "        vertical-align: middle;\n",
       "    }\n",
       "\n",
       "    .dataframe tbody tr th {\n",
       "        vertical-align: top;\n",
       "    }\n",
       "\n",
       "    .dataframe thead th {\n",
       "        text-align: right;\n",
       "    }\n",
       "</style>\n",
       "<table border=\"1\" class=\"dataframe\">\n",
       "  <thead>\n",
       "    <tr style=\"text-align: right;\">\n",
       "      <th></th>\n",
       "      <th>Unnamed: 0</th>\n",
       "      <th>manufacturer</th>\n",
       "      <th>model</th>\n",
       "      <th>version</th>\n",
       "      <th>power(kW)</th>\n",
       "      <th>fuel_date</th>\n",
       "      <th>trip_distance(km)</th>\n",
       "      <th>quantity(kWh)</th>\n",
       "      <th>fuel_type</th>\n",
       "      <th>tire_type</th>\n",
       "      <th>...</th>\n",
       "      <th>motor_way</th>\n",
       "      <th>country_roads</th>\n",
       "      <th>driving_style</th>\n",
       "      <th>consumption(kWh/100km)</th>\n",
       "      <th>A/C</th>\n",
       "      <th>park_heating</th>\n",
       "      <th>avg_speed(km/h)</th>\n",
       "      <th>ecr_deviation</th>\n",
       "      <th>odometer</th>\n",
       "      <th>fuel_note</th>\n",
       "    </tr>\n",
       "  </thead>\n",
       "  <tbody>\n",
       "    <tr>\n",
       "      <th>0</th>\n",
       "      <td>0</td>\n",
       "      <td>Volkswagen</td>\n",
       "      <td>Golf</td>\n",
       "      <td>e-Golf</td>\n",
       "      <td>85</td>\n",
       "      <td>08.02.2019</td>\n",
       "      <td>80.0</td>\n",
       "      <td>NaN</td>\n",
       "      <td>Electricity</td>\n",
       "      <td>Winter tires</td>\n",
       "      <td>...</td>\n",
       "      <td>0</td>\n",
       "      <td>1</td>\n",
       "      <td>Normal</td>\n",
       "      <td>17.8</td>\n",
       "      <td>0</td>\n",
       "      <td>1</td>\n",
       "      <td>53.0</td>\n",
       "      <td>1.0</td>\n",
       "      <td>NaN</td>\n",
       "      <td>NaN</td>\n",
       "    </tr>\n",
       "    <tr>\n",
       "      <th>1</th>\n",
       "      <td>1</td>\n",
       "      <td>Volkswagen</td>\n",
       "      <td>Golf</td>\n",
       "      <td>e-Golf</td>\n",
       "      <td>85</td>\n",
       "      <td>06.02.2019</td>\n",
       "      <td>50.0</td>\n",
       "      <td>12.29</td>\n",
       "      <td>Electricity</td>\n",
       "      <td>Winter tires</td>\n",
       "      <td>...</td>\n",
       "      <td>0</td>\n",
       "      <td>1</td>\n",
       "      <td>Normal</td>\n",
       "      <td>15.5</td>\n",
       "      <td>0</td>\n",
       "      <td>1</td>\n",
       "      <td>47.0</td>\n",
       "      <td>-1.3</td>\n",
       "      <td>NaN</td>\n",
       "      <td>NaN</td>\n",
       "    </tr>\n",
       "    <tr>\n",
       "      <th>2</th>\n",
       "      <td>2</td>\n",
       "      <td>Volkswagen</td>\n",
       "      <td>Golf</td>\n",
       "      <td>e-Golf</td>\n",
       "      <td>85</td>\n",
       "      <td>05.02.2019</td>\n",
       "      <td>43.0</td>\n",
       "      <td>8.68</td>\n",
       "      <td>Electricity</td>\n",
       "      <td>Winter tires</td>\n",
       "      <td>...</td>\n",
       "      <td>1</td>\n",
       "      <td>1</td>\n",
       "      <td>Normal</td>\n",
       "      <td>18.0</td>\n",
       "      <td>0</td>\n",
       "      <td>1</td>\n",
       "      <td>58.0</td>\n",
       "      <td>1.2</td>\n",
       "      <td>NaN</td>\n",
       "      <td>NaN</td>\n",
       "    </tr>\n",
       "    <tr>\n",
       "      <th>3</th>\n",
       "      <td>3</td>\n",
       "      <td>Volkswagen</td>\n",
       "      <td>Golf</td>\n",
       "      <td>e-Golf</td>\n",
       "      <td>85</td>\n",
       "      <td>04.02.2019</td>\n",
       "      <td>44.0</td>\n",
       "      <td>1.50</td>\n",
       "      <td>Electricity</td>\n",
       "      <td>Winter tires</td>\n",
       "      <td>...</td>\n",
       "      <td>1</td>\n",
       "      <td>1</td>\n",
       "      <td>Normal</td>\n",
       "      <td>16.1</td>\n",
       "      <td>0</td>\n",
       "      <td>1</td>\n",
       "      <td>43.0</td>\n",
       "      <td>-0.7</td>\n",
       "      <td>NaN</td>\n",
       "      <td>NaN</td>\n",
       "    </tr>\n",
       "    <tr>\n",
       "      <th>4</th>\n",
       "      <td>4</td>\n",
       "      <td>Volkswagen</td>\n",
       "      <td>Golf</td>\n",
       "      <td>e-Golf</td>\n",
       "      <td>85</td>\n",
       "      <td>04.02.2019</td>\n",
       "      <td>76.0</td>\n",
       "      <td>14.44</td>\n",
       "      <td>Electricity</td>\n",
       "      <td>Winter tires</td>\n",
       "      <td>...</td>\n",
       "      <td>1</td>\n",
       "      <td>0</td>\n",
       "      <td>Normal</td>\n",
       "      <td>19.0</td>\n",
       "      <td>0</td>\n",
       "      <td>1</td>\n",
       "      <td>76.0</td>\n",
       "      <td>2.2</td>\n",
       "      <td>NaN</td>\n",
       "      <td>NaN</td>\n",
       "    </tr>\n",
       "  </tbody>\n",
       "</table>\n",
       "<p>5 rows × 21 columns</p>\n",
       "</div>"
      ],
      "text/plain": [
       "   Unnamed: 0 manufacturer model version  power(kW)   fuel_date  \\\n",
       "0           0   Volkswagen  Golf  e-Golf         85  08.02.2019   \n",
       "1           1   Volkswagen  Golf  e-Golf         85  06.02.2019   \n",
       "2           2   Volkswagen  Golf  e-Golf         85  05.02.2019   \n",
       "3           3   Volkswagen  Golf  e-Golf         85  04.02.2019   \n",
       "4           4   Volkswagen  Golf  e-Golf         85  04.02.2019   \n",
       "\n",
       "   trip_distance(km)  quantity(kWh)    fuel_type     tire_type  ...  \\\n",
       "0               80.0            NaN  Electricity  Winter tires  ...   \n",
       "1               50.0          12.29  Electricity  Winter tires  ...   \n",
       "2               43.0           8.68  Electricity  Winter tires  ...   \n",
       "3               44.0           1.50  Electricity  Winter tires  ...   \n",
       "4               76.0          14.44  Electricity  Winter tires  ...   \n",
       "\n",
       "   motor_way  country_roads  driving_style consumption(kWh/100km)  A/C  \\\n",
       "0          0              1         Normal                   17.8    0   \n",
       "1          0              1         Normal                   15.5    0   \n",
       "2          1              1         Normal                   18.0    0   \n",
       "3          1              1         Normal                   16.1    0   \n",
       "4          1              0         Normal                   19.0    0   \n",
       "\n",
       "   park_heating  avg_speed(km/h)  ecr_deviation  odometer  fuel_note  \n",
       "0             1             53.0            1.0       NaN        NaN  \n",
       "1             1             47.0           -1.3       NaN        NaN  \n",
       "2             1             58.0            1.2       NaN        NaN  \n",
       "3             1             43.0           -0.7       NaN        NaN  \n",
       "4             1             76.0            2.2       NaN        NaN  \n",
       "\n",
       "[5 rows x 21 columns]"
      ]
     },
     "metadata": {},
     "output_type": "display_data"
    }
   ],
   "source": [
    "display(df.head(5))"
   ]
  },
  {
   "cell_type": "markdown",
   "metadata": {},
   "source": [
    "### Missing Values Analysis"
   ]
  },
  {
   "cell_type": "code",
   "execution_count": 18,
   "metadata": {},
   "outputs": [
    {
     "name": "stdout",
     "output_type": "stream",
     "text": [
      "Manufacturers\n"
     ]
    },
    {
     "data": {
      "text/plain": [
       "Volkswagen    3345\n",
       "Mitsubishi    1285\n",
       "Name: manufacturer, dtype: int64"
      ]
     },
     "metadata": {},
     "output_type": "display_data"
    },
    {
     "name": "stdout",
     "output_type": "stream",
     "text": [
      "Models\n"
     ]
    },
    {
     "data": {
      "text/plain": [
       "Golf      3345\n",
       "i-MiEV    1285\n",
       "Name: model, dtype: int64"
      ]
     },
     "metadata": {},
     "output_type": "display_data"
    },
    {
     "name": "stdout",
     "output_type": "stream",
     "text": [
      "Versions\n"
     ]
    },
    {
     "data": {
      "text/plain": [
       "e-Golf    3345\n",
       "i-MiEV    1285\n",
       "Name: version, dtype: int64"
      ]
     },
     "metadata": {},
     "output_type": "display_data"
    },
    {
     "name": "stdout",
     "output_type": "stream",
     "text": [
      "Fuel type\n"
     ]
    },
    {
     "data": {
      "text/plain": [
       "Electricity    4630\n",
       "Name: fuel_type, dtype: int64"
      ]
     },
     "metadata": {},
     "output_type": "display_data"
    },
    {
     "name": "stdout",
     "output_type": "stream",
     "text": [
      "tire type\n"
     ]
    },
    {
     "data": {
      "text/plain": [
       "Summer tires    2763\n",
       "Winter tires    1867\n",
       "Name: tire_type, dtype: int64"
      ]
     },
     "metadata": {},
     "output_type": "display_data"
    },
    {
     "name": "stdout",
     "output_type": "stream",
     "text": [
      "driving_style\n"
     ]
    },
    {
     "data": {
      "text/plain": [
       "Moderate    2363\n",
       "Normal      2124\n",
       "Fast         143\n",
       "Name: driving_style, dtype: int64"
      ]
     },
     "metadata": {},
     "output_type": "display_data"
    }
   ],
   "source": [
    "# Observing nonstandard data in Object variables\n",
    "\n",
    "# manufacturer\n",
    "print(\"Manufacturers\")\n",
    "display(df['manufacturer'].value_counts())\n",
    "\n",
    "# models\n",
    "print(\"Models\")\n",
    "display(df['model'].value_counts())\n",
    "\n",
    "# versions\n",
    "print(\"Versions\")\n",
    "display(df['version'].value_counts())\n",
    "\n",
    "# fuel type\n",
    "print(\"Fuel type\")\n",
    "display(df['fuel_type'].value_counts())\n",
    "\n",
    "# type type\n",
    "print(\"tire type\")\n",
    "display(df['tire_type'].value_counts())\n",
    "\n",
    "# driving_style\n",
    "print(\"driving_style\")\n",
    "display(df['driving_style'].value_counts())"
   ]
  },
  {
   "cell_type": "markdown",
   "metadata": {},
   "source": [
    "* **No Non-standard missing values found in object datatypes**"
   ]
  },
  {
   "cell_type": "code",
   "execution_count": 20,
   "metadata": {},
   "outputs": [
    {
     "data": {
      "text/plain": [
       "trip_distance(km)            4\n",
       "quantity(kWh)               40\n",
       "consumption(kWh/100km)      51\n",
       "avg_speed(km/h)           1298\n",
       "ecr_deviation               51\n",
       "odometer                  3345\n",
       "fuel_note                 3346\n",
       "dtype: int64"
      ]
     },
     "execution_count": 20,
     "metadata": {},
     "output_type": "execute_result"
    }
   ],
   "source": [
    "# standard missing values\n",
    "df.isnull().sum()[df.isnull().sum() > 0]"
   ]
  },
  {
   "cell_type": "code",
   "execution_count": null,
   "metadata": {},
   "outputs": [],
   "source": []
  }
 ],
 "metadata": {
  "kernelspec": {
   "display_name": "Python 3",
   "language": "python",
   "name": "python3"
  },
  "language_info": {
   "codemirror_mode": {
    "name": "ipython",
    "version": 3
   },
   "file_extension": ".py",
   "mimetype": "text/x-python",
   "name": "python",
   "nbconvert_exporter": "python",
   "pygments_lexer": "ipython3",
   "version": "3.8.5"
  }
 },
 "nbformat": 4,
 "nbformat_minor": 4
}
